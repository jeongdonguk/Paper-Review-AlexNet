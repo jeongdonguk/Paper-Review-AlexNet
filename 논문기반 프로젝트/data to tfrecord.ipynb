{
 "cells": [
  {
   "cell_type": "code",
   "execution_count": 1,
   "metadata": {
    "executionInfo": {
     "elapsed": 4081,
     "status": "ok",
     "timestamp": 1676096475966,
     "user": {
      "displayName": "화정이네",
      "userId": "05305307080143119231"
     },
     "user_tz": -540
    },
    "id": "XESiOOIb1NZY"
   },
   "outputs": [],
   "source": [
    "import os\n",
    "import pandas as pd\n",
    "import tensorflow as tf\n",
    "import cv2\n",
    "import matplotlib.pyplot as plt\n",
    "from sklearn.model_selection import train_test_split\n",
    "import numpy as np\n",
    "from tqdm import tqdm"
   ]
  },
  {
   "cell_type": "code",
   "execution_count": 4,
   "metadata": {
    "colab": {
     "base_uri": "https://localhost:8080/"
    },
    "executionInfo": {
     "elapsed": 2,
     "status": "ok",
     "timestamp": 1676096567971,
     "user": {
      "displayName": "화정이네",
      "userId": "05305307080143119231"
     },
     "user_tz": -540
    },
    "id": "erNGMLLeI9_O",
    "outputId": "c4e780d6-d297-4032-9cdc-e28862c7e883"
   },
   "outputs": [
    {
     "data": {
      "text/plain": [
       "[PhysicalDevice(name='/physical_device:CPU:0', device_type='CPU'),\n",
       " PhysicalDevice(name='/physical_device:GPU:0', device_type='GPU')]"
      ]
     },
     "execution_count": 4,
     "metadata": {},
     "output_type": "execute_result"
    }
   ],
   "source": [
    "tf.config.list_physical_devices()"
   ]
  },
  {
   "cell_type": "code",
   "execution_count": 7,
   "metadata": {
    "executionInfo": {
     "elapsed": 3405,
     "status": "ok",
     "timestamp": 1676096642046,
     "user": {
      "displayName": "화정이네",
      "userId": "05305307080143119231"
     },
     "user_tz": -540
    },
    "id": "3cZgaBbX2X5F"
   },
   "outputs": [],
   "source": [
    "# tpu 사용을 위한 준비\n",
    "# tpu_name = 'grpc://'+os.environ['COLAB_TPU_ADDR']\n",
    "\n",
    "# resolver = tf.distribute.cluster_resolver.TPUClusterResolver(tpu=tpu_name)\n",
    "\n",
    "# tf.config.experimental_connect_to_cluster(resolver)\n",
    "# tf.tpu.experimental.initialize_tpu_system(resolver)\n",
    "\n",
    "# strategy = tf.distribute.TPUStrategy(resolver)\n",
    "\n",
    "# gpu사용\n",
    "strategy = tf.distribute.MirroredStrategy(['GPU:0'])"
   ]
  },
  {
   "cell_type": "code",
   "execution_count": 2,
   "metadata": {
    "colab": {
     "base_uri": "https://localhost:8080/"
    },
    "executionInfo": {
     "elapsed": 68799,
     "status": "ok",
     "timestamp": 1676096546390,
     "user": {
      "displayName": "화정이네",
      "userId": "05305307080143119231"
     },
     "user_tz": -540
    },
    "id": "irKa8cKJ09_s",
    "outputId": "dbe468de-6bf7-400d-d862-a0090a618e36"
   },
   "outputs": [
    {
     "name": "stdout",
     "output_type": "stream",
     "text": [
      "Mounted at /content/drive\n"
     ]
    }
   ],
   "source": [
    "from google.colab import drive\n",
    "drive.mount('/content/drive')"
   ]
  },
  {
   "cell_type": "code",
   "execution_count": 2,
   "metadata": {
    "colab": {
     "base_uri": "https://localhost:8080/",
     "height": 382
    },
    "executionInfo": {
     "elapsed": 1090,
     "status": "error",
     "timestamp": 1676096653931,
     "user": {
      "displayName": "화정이네",
      "userId": "05305307080143119231"
     },
     "user_tz": -540
    },
    "id": "XglB9JpS3NPv",
    "outputId": "6462b5f8-00e2-4a69-cacd-6c4c90c960da"
   },
   "outputs": [],
   "source": [
    "data_dir = './../../data/4d-block/'\n",
    "train_df = pd.read_csv(os.path.join(data_dir,'train.csv'))\n",
    "test_df = pd.read_csv(os.path.join(data_dir,'test.csv'))"
   ]
  },
  {
   "cell_type": "code",
   "execution_count": null,
   "metadata": {
    "colab": {
     "base_uri": "https://localhost:8080/",
     "height": 206
    },
    "executionInfo": {
     "elapsed": 384,
     "status": "ok",
     "timestamp": 1675690734644,
     "user": {
      "displayName": "화정이네",
      "userId": "05305307080143119231"
     },
     "user_tz": -540
    },
    "id": "lXkjgkYj4DaE",
    "outputId": "08e89de5-d313-46ec-8269-c1f54b557efb"
   },
   "outputs": [
    {
     "data": {
      "text/html": [
       "<div>\n",
       "<style scoped>\n",
       "    .dataframe tbody tr th:only-of-type {\n",
       "        vertical-align: middle;\n",
       "    }\n",
       "\n",
       "    .dataframe tbody tr th {\n",
       "        vertical-align: top;\n",
       "    }\n",
       "\n",
       "    .dataframe thead th {\n",
       "        text-align: right;\n",
       "    }\n",
       "</style>\n",
       "<table border=\"1\" class=\"dataframe\">\n",
       "  <thead>\n",
       "    <tr style=\"text-align: right;\">\n",
       "      <th></th>\n",
       "      <th>id</th>\n",
       "      <th>img_path</th>\n",
       "      <th>A</th>\n",
       "      <th>B</th>\n",
       "      <th>C</th>\n",
       "      <th>D</th>\n",
       "      <th>E</th>\n",
       "      <th>F</th>\n",
       "      <th>G</th>\n",
       "      <th>H</th>\n",
       "      <th>I</th>\n",
       "      <th>J</th>\n",
       "    </tr>\n",
       "  </thead>\n",
       "  <tbody>\n",
       "    <tr>\n",
       "      <th>0</th>\n",
       "      <td>TRAIN_00000</td>\n",
       "      <td>./train/TRAIN_00000.jpg</td>\n",
       "      <td>1</td>\n",
       "      <td>0</td>\n",
       "      <td>0</td>\n",
       "      <td>0</td>\n",
       "      <td>0</td>\n",
       "      <td>0</td>\n",
       "      <td>0</td>\n",
       "      <td>0</td>\n",
       "      <td>0</td>\n",
       "      <td>0</td>\n",
       "    </tr>\n",
       "    <tr>\n",
       "      <th>1</th>\n",
       "      <td>TRAIN_00001</td>\n",
       "      <td>./train/TRAIN_00001.jpg</td>\n",
       "      <td>1</td>\n",
       "      <td>0</td>\n",
       "      <td>0</td>\n",
       "      <td>0</td>\n",
       "      <td>0</td>\n",
       "      <td>0</td>\n",
       "      <td>0</td>\n",
       "      <td>0</td>\n",
       "      <td>0</td>\n",
       "      <td>0</td>\n",
       "    </tr>\n",
       "    <tr>\n",
       "      <th>2</th>\n",
       "      <td>TRAIN_00002</td>\n",
       "      <td>./train/TRAIN_00002.jpg</td>\n",
       "      <td>1</td>\n",
       "      <td>0</td>\n",
       "      <td>0</td>\n",
       "      <td>0</td>\n",
       "      <td>0</td>\n",
       "      <td>0</td>\n",
       "      <td>0</td>\n",
       "      <td>0</td>\n",
       "      <td>0</td>\n",
       "      <td>0</td>\n",
       "    </tr>\n",
       "    <tr>\n",
       "      <th>3</th>\n",
       "      <td>TRAIN_00003</td>\n",
       "      <td>./train/TRAIN_00003.jpg</td>\n",
       "      <td>1</td>\n",
       "      <td>0</td>\n",
       "      <td>0</td>\n",
       "      <td>0</td>\n",
       "      <td>0</td>\n",
       "      <td>0</td>\n",
       "      <td>0</td>\n",
       "      <td>0</td>\n",
       "      <td>0</td>\n",
       "      <td>0</td>\n",
       "    </tr>\n",
       "    <tr>\n",
       "      <th>4</th>\n",
       "      <td>TRAIN_00004</td>\n",
       "      <td>./train/TRAIN_00004.jpg</td>\n",
       "      <td>1</td>\n",
       "      <td>0</td>\n",
       "      <td>0</td>\n",
       "      <td>0</td>\n",
       "      <td>0</td>\n",
       "      <td>0</td>\n",
       "      <td>0</td>\n",
       "      <td>0</td>\n",
       "      <td>0</td>\n",
       "      <td>0</td>\n",
       "    </tr>\n",
       "  </tbody>\n",
       "</table>\n",
       "</div>"
      ],
      "text/plain": [
       "            id                 img_path  A  B  C  D  E  F  G  H  I  J\n",
       "0  TRAIN_00000  ./train/TRAIN_00000.jpg  1  0  0  0  0  0  0  0  0  0\n",
       "1  TRAIN_00001  ./train/TRAIN_00001.jpg  1  0  0  0  0  0  0  0  0  0\n",
       "2  TRAIN_00002  ./train/TRAIN_00002.jpg  1  0  0  0  0  0  0  0  0  0\n",
       "3  TRAIN_00003  ./train/TRAIN_00003.jpg  1  0  0  0  0  0  0  0  0  0\n",
       "4  TRAIN_00004  ./train/TRAIN_00004.jpg  1  0  0  0  0  0  0  0  0  0"
      ]
     },
     "execution_count": 4,
     "metadata": {},
     "output_type": "execute_result"
    }
   ],
   "source": [
    "train_df.head()"
   ]
  },
  {
   "cell_type": "code",
   "execution_count": null,
   "metadata": {
    "colab": {
     "base_uri": "https://localhost:8080/"
    },
    "executionInfo": {
     "elapsed": 2,
     "status": "ok",
     "timestamp": 1675690734645,
     "user": {
      "displayName": "화정이네",
      "userId": "05305307080143119231"
     },
     "user_tz": -540
    },
    "id": "oDPG4l2TCoRT",
    "outputId": "1f96dbc8-aaac-453c-aa8a-8a8ce4ce981e"
   },
   "outputs": [
    {
     "data": {
      "text/plain": [
       "id          0\n",
       "img_path    0\n",
       "A           0\n",
       "B           0\n",
       "C           0\n",
       "D           0\n",
       "E           0\n",
       "F           0\n",
       "G           0\n",
       "H           0\n",
       "I           0\n",
       "J           0\n",
       "dtype: int64"
      ]
     },
     "execution_count": 5,
     "metadata": {},
     "output_type": "execute_result"
    }
   ],
   "source": [
    "train_df.isnull().sum()"
   ]
  },
  {
   "cell_type": "code",
   "execution_count": null,
   "metadata": {
    "id": "BECKH-7pCy-w"
   },
   "outputs": [],
   "source": [
    "train, val = train_test_split(train_df, test_size=0.35, random_state=2023)"
   ]
  },
  {
   "cell_type": "code",
   "execution_count": null,
   "metadata": {
    "id": "wvrgkBdw3eAX"
   },
   "outputs": [],
   "source": [
    "train.reset_index(drop=True, inplace=True)\n",
    "val.reset_index(drop=True, inplace=True)"
   ]
  },
  {
   "cell_type": "code",
   "execution_count": null,
   "metadata": {
    "colab": {
     "base_uri": "https://localhost:8080/"
    },
    "executionInfo": {
     "elapsed": 3,
     "status": "ok",
     "timestamp": 1675690736398,
     "user": {
      "displayName": "화정이네",
      "userId": "05305307080143119231"
     },
     "user_tz": -540
    },
    "id": "TzoafX23INJg",
    "outputId": "70a2e71f-d30f-4ac0-e49d-426415b8529e"
   },
   "outputs": [
    {
     "data": {
      "text/plain": [
       "((21446, 12), (11548, 12))"
      ]
     },
     "execution_count": 8,
     "metadata": {},
     "output_type": "execute_result"
    }
   ],
   "source": [
    "train.shape, val.shape"
   ]
  },
  {
   "cell_type": "code",
   "execution_count": null,
   "metadata": {
    "id": "gVUjH8TfIR1a"
   },
   "outputs": [],
   "source": [
    "def _bytes_feature(value):\n",
    "    if isinstance(value,type(tf.constant(0))):\n",
    "        value = value.numpy()\n",
    "    return tf.train.Feature(bytes_list = tf.train.BytesList(value = [value]))\n",
    "\n",
    "def _float_feature(value):\n",
    "    return tf.train.Feature(float_list = tf.train.FloatList(value = [value]))\n",
    "\n",
    "def _int64_feature(value):\n",
    "    return tf.train.Feature(int64_list=tf.train.Int64List(value=[value]))"
   ]
  },
  {
   "cell_type": "code",
   "execution_count": null,
   "metadata": {
    "colab": {
     "base_uri": "https://localhost:8080/",
     "height": 143
    },
    "executionInfo": {
     "elapsed": 2,
     "status": "ok",
     "timestamp": 1675690737147,
     "user": {
      "displayName": "화정이네",
      "userId": "05305307080143119231"
     },
     "user_tz": -540
    },
    "id": "im4Ar_Z1pD4Z",
    "outputId": "bb5c601f-4d20-4dd4-c045-dd552ba33ad6"
   },
   "outputs": [
    {
     "data": {
      "text/html": [
       "<div>\n",
       "<style scoped>\n",
       "    .dataframe tbody tr th:only-of-type {\n",
       "        vertical-align: middle;\n",
       "    }\n",
       "\n",
       "    .dataframe tbody tr th {\n",
       "        vertical-align: top;\n",
       "    }\n",
       "\n",
       "    .dataframe thead th {\n",
       "        text-align: right;\n",
       "    }\n",
       "</style>\n",
       "<table border=\"1\" class=\"dataframe\">\n",
       "  <thead>\n",
       "    <tr style=\"text-align: right;\">\n",
       "      <th></th>\n",
       "      <th>id</th>\n",
       "      <th>img_path</th>\n",
       "      <th>A</th>\n",
       "      <th>B</th>\n",
       "      <th>C</th>\n",
       "      <th>D</th>\n",
       "      <th>E</th>\n",
       "      <th>F</th>\n",
       "      <th>G</th>\n",
       "      <th>H</th>\n",
       "      <th>I</th>\n",
       "      <th>J</th>\n",
       "    </tr>\n",
       "  </thead>\n",
       "  <tbody>\n",
       "    <tr>\n",
       "      <th>0</th>\n",
       "      <td>TRAIN_15562</td>\n",
       "      <td>./train/TRAIN_15562.jpg</td>\n",
       "      <td>1</td>\n",
       "      <td>1</td>\n",
       "      <td>0</td>\n",
       "      <td>1</td>\n",
       "      <td>0</td>\n",
       "      <td>0</td>\n",
       "      <td>1</td>\n",
       "      <td>0</td>\n",
       "      <td>1</td>\n",
       "      <td>1</td>\n",
       "    </tr>\n",
       "    <tr>\n",
       "      <th>1</th>\n",
       "      <td>TRAIN_18654</td>\n",
       "      <td>./train/TRAIN_18654.jpg</td>\n",
       "      <td>0</td>\n",
       "      <td>0</td>\n",
       "      <td>1</td>\n",
       "      <td>1</td>\n",
       "      <td>1</td>\n",
       "      <td>1</td>\n",
       "      <td>1</td>\n",
       "      <td>1</td>\n",
       "      <td>0</td>\n",
       "      <td>0</td>\n",
       "    </tr>\n",
       "    <tr>\n",
       "      <th>2</th>\n",
       "      <td>TRAIN_17763</td>\n",
       "      <td>./train/TRAIN_17763.jpg</td>\n",
       "      <td>0</td>\n",
       "      <td>1</td>\n",
       "      <td>1</td>\n",
       "      <td>1</td>\n",
       "      <td>0</td>\n",
       "      <td>0</td>\n",
       "      <td>0</td>\n",
       "      <td>1</td>\n",
       "      <td>1</td>\n",
       "      <td>1</td>\n",
       "    </tr>\n",
       "  </tbody>\n",
       "</table>\n",
       "</div>"
      ],
      "text/plain": [
       "            id                 img_path  A  B  C  D  E  F  G  H  I  J\n",
       "0  TRAIN_15562  ./train/TRAIN_15562.jpg  1  1  0  1  0  0  1  0  1  1\n",
       "1  TRAIN_18654  ./train/TRAIN_18654.jpg  0  0  1  1  1  1  1  1  0  0\n",
       "2  TRAIN_17763  ./train/TRAIN_17763.jpg  0  1  1  1  0  0  0  1  1  1"
      ]
     },
     "execution_count": 10,
     "metadata": {},
     "output_type": "execute_result"
    }
   ],
   "source": [
    "train.head(3)"
   ]
  },
  {
   "cell_type": "code",
   "execution_count": 88,
   "metadata": {
    "colab": {
     "base_uri": "https://localhost:8080/",
     "height": 248
    },
    "executionInfo": {
     "elapsed": 392,
     "status": "error",
     "timestamp": 1676092984997,
     "user": {
      "displayName": "화정이네",
      "userId": "05305307080143119231"
     },
     "user_tz": -540
    },
    "id": "OzA9jCTFkNo7",
    "outputId": "778aca86-75a3-45d7-8482-5ec44833abcd"
   },
   "outputs": [
    {
     "ename": "NameError",
     "evalue": "ignored",
     "output_type": "error",
     "traceback": [
      "\u001b[0;31m---------------------------------------------------------------------------\u001b[0m",
      "\u001b[0;31mNameError\u001b[0m                                 Traceback (most recent call last)",
      "\u001b[0;32m<ipython-input-88-8f2b9a1b77fa>\u001b[0m in \u001b[0;36m<module>\u001b[0;34m\u001b[0m\n\u001b[1;32m      1\u001b[0m \u001b[0mwriter_image\u001b[0m \u001b[0;34m=\u001b[0m \u001b[0mtf\u001b[0m\u001b[0;34m.\u001b[0m\u001b[0mio\u001b[0m\u001b[0;34m.\u001b[0m\u001b[0mTFRecordWriter\u001b[0m\u001b[0;34m(\u001b[0m\u001b[0mos\u001b[0m\u001b[0;34m.\u001b[0m\u001b[0mpath\u001b[0m\u001b[0;34m.\u001b[0m\u001b[0mjoin\u001b[0m\u001b[0;34m(\u001b[0m\u001b[0mdata_dir\u001b[0m\u001b[0;34m,\u001b[0m\u001b[0;34m'image_train.tfrecord'\u001b[0m\u001b[0;34m)\u001b[0m\u001b[0;34m)\u001b[0m\u001b[0;34m\u001b[0m\u001b[0;34m\u001b[0m\u001b[0m\n\u001b[1;32m      2\u001b[0m \u001b[0;34m\u001b[0m\u001b[0m\n\u001b[0;32m----> 3\u001b[0;31m \u001b[0;32mfor\u001b[0m \u001b[0mi\u001b[0m \u001b[0;32min\u001b[0m \u001b[0mtqdm\u001b[0m\u001b[0;34m(\u001b[0m\u001b[0mrange\u001b[0m\u001b[0;34m(\u001b[0m\u001b[0mtrain\u001b[0m\u001b[0;34m.\u001b[0m\u001b[0mshape\u001b[0m\u001b[0;34m[\u001b[0m\u001b[0;36m0\u001b[0m\u001b[0;34m]\u001b[0m\u001b[0;34m)\u001b[0m\u001b[0;34m)\u001b[0m\u001b[0;34m:\u001b[0m\u001b[0;34m\u001b[0m\u001b[0;34m\u001b[0m\u001b[0m\n\u001b[0m\u001b[1;32m      4\u001b[0m     \u001b[0msrc\u001b[0m \u001b[0;34m=\u001b[0m \u001b[0mcv2\u001b[0m\u001b[0;34m.\u001b[0m\u001b[0mimread\u001b[0m\u001b[0;34m(\u001b[0m\u001b[0mos\u001b[0m\u001b[0;34m.\u001b[0m\u001b[0mpath\u001b[0m\u001b[0;34m.\u001b[0m\u001b[0mjoin\u001b[0m\u001b[0;34m(\u001b[0m\u001b[0mdata_dir\u001b[0m\u001b[0;34m,\u001b[0m\u001b[0mtrain\u001b[0m\u001b[0;34m.\u001b[0m\u001b[0miloc\u001b[0m\u001b[0;34m[\u001b[0m\u001b[0mi\u001b[0m\u001b[0;34m,\u001b[0m\u001b[0;36m1\u001b[0m\u001b[0;34m]\u001b[0m\u001b[0;34m)\u001b[0m\u001b[0;34m)\u001b[0m\u001b[0;34m\u001b[0m\u001b[0;34m\u001b[0m\u001b[0m\n\u001b[1;32m      5\u001b[0m     \u001b[0mdst\u001b[0m \u001b[0;34m=\u001b[0m \u001b[0mcv2\u001b[0m\u001b[0;34m.\u001b[0m\u001b[0mcvtColor\u001b[0m\u001b[0;34m(\u001b[0m\u001b[0msrc\u001b[0m\u001b[0;34m,\u001b[0m \u001b[0mcv2\u001b[0m\u001b[0;34m.\u001b[0m\u001b[0mCOLOR_BGR2RGB\u001b[0m\u001b[0;34m)\u001b[0m\u001b[0;34m\u001b[0m\u001b[0;34m\u001b[0m\u001b[0m\n",
      "\u001b[0;31mNameError\u001b[0m: name 'train' is not defined"
     ]
    }
   ],
   "source": [
    "writer_image = tf.io.TFRecordWriter(os.path.join(data_dir,'image_train.tfrecord'))\n",
    "\n",
    "for i in tqdm(range(train.shape[0])):\n",
    "    src = cv2.imread(os.path.join(data_dir,train.iloc[i,1]))\n",
    "    dst = cv2.cvtColor(src, cv2.COLOR_BGR2RGB)\n",
    "    dst = cv2.resize(dst,(img_size,img_size), interpolation = cv2.INTER_CUBIC)\n",
    "    bimage = dst.tobytes()\n",
    "\n",
    "    classes = np.array(train.loc[i,'A':'J'], dtype=np.uint8).tobytes()\n",
    "\n",
    "    example = tf.train.Example(\n",
    "        features = tf.train.Features(\n",
    "            feature={\n",
    "            'image':_bytes_feature(bimage),\n",
    "            'class': _bytes_feature(classes)\n",
    "            }\n",
    "        )\n",
    "    )\n",
    "\n",
    "    writer_image.write(example.SerializeToString())\n",
    "\n",
    "writer_image.close()"
   ]
  },
  {
   "cell_type": "code",
   "execution_count": null,
   "metadata": {
    "colab": {
     "base_uri": "https://localhost:8080/",
     "height": 174
    },
    "executionInfo": {
     "elapsed": 3,
     "status": "error",
     "timestamp": 1675690539505,
     "user": {
      "displayName": "화정이네",
      "userId": "05305307080143119231"
     },
     "user_tz": -540
    },
    "id": "o09YruuQ0kon",
    "outputId": "1970ed2d-2e15-4765-8c43-34a86f4cf239",
    "scrolled": true
   },
   "outputs": [
    {
     "name": "stderr",
     "output_type": "stream",
     "text": [
      "100%|███████████████████████████████████████████████████████████████████████████| 11548/11548 [00:42<00:00, 274.72it/s]\n"
     ]
    }
   ],
   "source": [
    "writer_image = tf.io.TFRecordWriter(os.path.join(data_dir,'image_val.tfrecord'))\n",
    "\n",
    "for i in tqdm(range(val.shape[0])):\n",
    "    src = cv2.imread(os.path.join(data_dir,val.iloc[i,1]))\n",
    "    dst = cv2.cvtColor(src, cv2.COLOR_BGR2RGB)\n",
    "    dst = cv2.resize(dst,(img_size,img_size), interpolation = cv2.INTER_CUBIC)\n",
    "    bimage = dst.tobytes()\n",
    "\n",
    "    classes = np.array(val.loc[i,'A':'J'], dtype=np.uint8).tobytes()\n",
    "\n",
    "    example = tf.train.Example(\n",
    "        features = tf.train.Features(\n",
    "            feature={\n",
    "            'image':_bytes_feature(bimage),\n",
    "            'class': _bytes_feature(classes)\n",
    "            }\n",
    "        )\n",
    "    )\n",
    "\n",
    "    writer_image.write(example.SerializeToString())\n",
    "\n",
    "writer_image.close()"
   ]
  },
  {
   "cell_type": "code",
   "execution_count": null,
   "metadata": {
    "id": "eIn9GsXOD0Pc",
    "outputId": "6a1899bd-6209-4695-d2f2-74eebc35fdf8"
   },
   "outputs": [
    {
     "name": "stderr",
     "output_type": "stream",
     "text": [
      "100%|█████████████████████████████████████████████████████████████████████████████| 1460/1460 [00:09<00:00, 147.62it/s]\n"
     ]
    }
   ],
   "source": [
    "writer_image = tf.io.TFRecordWriter(os.path.join(data_dir,'image_test.tfrecord'))\n",
    "\n",
    "for i in tqdm(range(test_df.shape[0])):\n",
    "    src = cv2.imread(os.path.join(data_dir,test_df.iloc[i,1]))\n",
    "    dst = cv2.cvtColor(src, cv2.COLOR_BGR2RGB)\n",
    "    dst = cv2.resize(dst,(img_size,img_size), interpolation = cv2.INTER_CUBIC)\n",
    "    bimage = dst.tobytes()\n",
    "\n",
    "    classes = np.array(test_df.loc[i,'A':'J'], dtype=np.uint8).tobytes()\n",
    "\n",
    "    example = tf.train.Example(\n",
    "        features = tf.train.Features(\n",
    "            feature={\n",
    "            'image':_bytes_feature(bimage),\n",
    "            'class': _bytes_feature(classes)\n",
    "            }\n",
    "        )\n",
    "    )\n",
    "\n",
    "    writer_image.write(example.SerializeToString())\n",
    "\n",
    "writer_image.close()"
   ]
  }
 ],
 "metadata": {
  "accelerator": "GPU",
  "colab": {
   "machine_shape": "hm",
   "provenance": []
  },
  "gpuClass": "premium",
  "kernelspec": {
   "display_name": "Python 3 (ipykernel)",
   "language": "python",
   "name": "python3"
  },
  "language_info": {
   "codemirror_mode": {
    "name": "ipython",
    "version": 3
   },
   "file_extension": ".py",
   "mimetype": "text/x-python",
   "name": "python",
   "nbconvert_exporter": "python",
   "pygments_lexer": "ipython3",
   "version": "3.9.12"
  }
 },
 "nbformat": 4,
 "nbformat_minor": 1
}
