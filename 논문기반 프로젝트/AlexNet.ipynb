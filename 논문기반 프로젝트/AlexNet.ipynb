{
 "cells": [
  {
   "cell_type": "code",
   "execution_count": 2,
   "metadata": {
    "executionInfo": {
     "elapsed": 4081,
     "status": "ok",
     "timestamp": 1676096475966,
     "user": {
      "displayName": "화정이네",
      "userId": "05305307080143119231"
     },
     "user_tz": -540
    },
    "id": "XESiOOIb1NZY"
   },
   "outputs": [],
   "source": [
    "import os\n",
    "import pandas as pd\n",
    "import tensorflow as tf\n",
    "import cv2\n",
    "import matplotlib.pyplot as plt\n",
    "from sklearn.model_selection import train_test_split\n",
    "import numpy as np\n",
    "from tqdm import tqdm"
   ]
  },
  {
   "cell_type": "code",
   "execution_count": 3,
   "metadata": {
    "colab": {
     "base_uri": "https://localhost:8080/"
    },
    "executionInfo": {
     "elapsed": 2,
     "status": "ok",
     "timestamp": 1676096567971,
     "user": {
      "displayName": "화정이네",
      "userId": "05305307080143119231"
     },
     "user_tz": -540
    },
    "id": "erNGMLLeI9_O",
    "outputId": "c4e780d6-d297-4032-9cdc-e28862c7e883"
   },
   "outputs": [
    {
     "data": {
      "text/plain": [
       "[PhysicalDevice(name='/physical_device:CPU:0', device_type='CPU'),\n",
       " PhysicalDevice(name='/physical_device:GPU:0', device_type='GPU')]"
      ]
     },
     "execution_count": 3,
     "metadata": {},
     "output_type": "execute_result"
    }
   ],
   "source": [
    "tf.config.list_physical_devices()"
   ]
  },
  {
   "cell_type": "code",
   "execution_count": 4,
   "metadata": {
    "executionInfo": {
     "elapsed": 3405,
     "status": "ok",
     "timestamp": 1676096642046,
     "user": {
      "displayName": "화정이네",
      "userId": "05305307080143119231"
     },
     "user_tz": -540
    },
    "id": "3cZgaBbX2X5F"
   },
   "outputs": [
    {
     "name": "stdout",
     "output_type": "stream",
     "text": [
      "INFO:tensorflow:Using MirroredStrategy with devices ('/job:localhost/replica:0/task:0/device:GPU:0',)\n"
     ]
    }
   ],
   "source": [
    "# tpu 사용을 위한 준비\n",
    "# tpu_name = 'grpc://'+os.environ['COLAB_TPU_ADDR']\n",
    "\n",
    "# resolver = tf.distribute.cluster_resolver.TPUClusterResolver(tpu=tpu_name)\n",
    "\n",
    "# tf.config.experimental_connect_to_cluster(resolver)\n",
    "# tf.tpu.experimental.initialize_tpu_system(resolver)\n",
    "# strategy = tf.distribute.TPUStrategy(resolver)\n",
    "\n",
    "# 로컬 gpu사용\n",
    "strategy = tf.distribute.MirroredStrategy(['GPU:0'])\n"
   ]
  },
  {
   "cell_type": "code",
   "execution_count": 5,
   "metadata": {
    "executionInfo": {
     "elapsed": 1,
     "status": "ok",
     "timestamp": 1676096662497,
     "user": {
      "displayName": "화정이네",
      "userId": "05305307080143119231"
     },
     "user_tz": -540
    },
    "id": "T13cEtoByxK2"
   },
   "outputs": [],
   "source": [
    "model_cfg = {\n",
    "    'img_size' : 224,\n",
    "    'epochs' : 10,\n",
    "    'batch_size' : 128,\n",
    "    'lr' : 1e-3,\n",
    "    'seed' : 2023\n",
    "    }\n",
    "data_dir = './../../data/4d-block/'\n"
   ]
  },
  {
   "cell_type": "code",
   "execution_count": 6,
   "metadata": {},
   "outputs": [],
   "source": [
    "df = pd.read_csv(os.path.join(data_dir,'train.csv'))\n",
    "train, val = train_test_split(\n",
    "df,\n",
    "test_size=0.3,\n",
    "random_state=model_cfg['seed']                \n",
    ")"
   ]
  },
  {
   "cell_type": "code",
   "execution_count": 7,
   "metadata": {},
   "outputs": [
    {
     "data": {
      "text/html": [
       "<div>\n",
       "<style scoped>\n",
       "    .dataframe tbody tr th:only-of-type {\n",
       "        vertical-align: middle;\n",
       "    }\n",
       "\n",
       "    .dataframe tbody tr th {\n",
       "        vertical-align: top;\n",
       "    }\n",
       "\n",
       "    .dataframe thead th {\n",
       "        text-align: right;\n",
       "    }\n",
       "</style>\n",
       "<table border=\"1\" class=\"dataframe\">\n",
       "  <thead>\n",
       "    <tr style=\"text-align: right;\">\n",
       "      <th></th>\n",
       "      <th>id</th>\n",
       "      <th>img_path</th>\n",
       "      <th>A</th>\n",
       "      <th>B</th>\n",
       "      <th>C</th>\n",
       "      <th>D</th>\n",
       "      <th>E</th>\n",
       "      <th>F</th>\n",
       "      <th>G</th>\n",
       "      <th>H</th>\n",
       "      <th>I</th>\n",
       "      <th>J</th>\n",
       "    </tr>\n",
       "  </thead>\n",
       "  <tbody>\n",
       "    <tr>\n",
       "      <th>0</th>\n",
       "      <td>TRAIN_00000</td>\n",
       "      <td>./train/TRAIN_00000.jpg</td>\n",
       "      <td>1</td>\n",
       "      <td>0</td>\n",
       "      <td>0</td>\n",
       "      <td>0</td>\n",
       "      <td>0</td>\n",
       "      <td>0</td>\n",
       "      <td>0</td>\n",
       "      <td>0</td>\n",
       "      <td>0</td>\n",
       "      <td>0</td>\n",
       "    </tr>\n",
       "    <tr>\n",
       "      <th>1</th>\n",
       "      <td>TRAIN_00001</td>\n",
       "      <td>./train/TRAIN_00001.jpg</td>\n",
       "      <td>1</td>\n",
       "      <td>0</td>\n",
       "      <td>0</td>\n",
       "      <td>0</td>\n",
       "      <td>0</td>\n",
       "      <td>0</td>\n",
       "      <td>0</td>\n",
       "      <td>0</td>\n",
       "      <td>0</td>\n",
       "      <td>0</td>\n",
       "    </tr>\n",
       "    <tr>\n",
       "      <th>2</th>\n",
       "      <td>TRAIN_00002</td>\n",
       "      <td>./train/TRAIN_00002.jpg</td>\n",
       "      <td>1</td>\n",
       "      <td>0</td>\n",
       "      <td>0</td>\n",
       "      <td>0</td>\n",
       "      <td>0</td>\n",
       "      <td>0</td>\n",
       "      <td>0</td>\n",
       "      <td>0</td>\n",
       "      <td>0</td>\n",
       "      <td>0</td>\n",
       "    </tr>\n",
       "  </tbody>\n",
       "</table>\n",
       "</div>"
      ],
      "text/plain": [
       "            id                 img_path  A  B  C  D  E  F  G  H  I  J\n",
       "0  TRAIN_00000  ./train/TRAIN_00000.jpg  1  0  0  0  0  0  0  0  0  0\n",
       "1  TRAIN_00001  ./train/TRAIN_00001.jpg  1  0  0  0  0  0  0  0  0  0\n",
       "2  TRAIN_00002  ./train/TRAIN_00002.jpg  1  0  0  0  0  0  0  0  0  0"
      ]
     },
     "execution_count": 7,
     "metadata": {},
     "output_type": "execute_result"
    }
   ],
   "source": [
    "df.head(3)"
   ]
  },
  {
   "cell_type": "code",
   "execution_count": 8,
   "metadata": {},
   "outputs": [],
   "source": [
    "def train_gen():\n",
    "    for i in range(train.shape[0]):\n",
    "        path = data_dir + train.iloc[i,1]\n",
    "        image = cv2.imread(path)/255.0\n",
    "        image = cv2.resize(image,(224,224))\n",
    "        image = image.astype(np.float32)\n",
    "        labels = train.iloc[i,2:].to_numpy()\n",
    "        labels = labels.astype(np.int8)\n",
    "        yield (image, labels)\n",
    "\n",
    "\n",
    "def val_gen():\n",
    "    for i in range(val.shape[0]):\n",
    "        path = data_dir + val.iloc[i,1]\n",
    "        image = cv2.imread(path)/255.0\n",
    "        image = cv2.resize(image,(model_cfg['img_size'], model_cfg['img_size']))\n",
    "        image = image.astype(np.float32)\n",
    "        labels = val.iloc[i,2:].to_numpy()\n",
    "        labels = labels.astype(np.int8)\n",
    "        yield (image, labels)\n",
    "        \n",
    "\n",
    "def test_gen():\n",
    "    for i in range(data.shape[0]):\n",
    "        path = data_dir + test.iloc[i,1]\n",
    "        image = cv2.imread(path)/255.0\n",
    "        image = cv2.resize(image,(224,224))\n",
    "        image = image.astype(np.float32)\n",
    "        yield image    \n"
   ]
  },
  {
   "cell_type": "code",
   "execution_count": 9,
   "metadata": {},
   "outputs": [],
   "source": [
    "train_ds = tf.data.Dataset.from_generator(train_gen, (tf.float32,tf.int8), ((224,224,3),(10)))\n",
    "train_ds = train_ds.batch(model_cfg['batch_size'])\n",
    "val_ds = tf.data.Dataset.from_generator(val_gen, (tf.float32,tf.int8), ((224,224,3),(10)))\n",
    "val_ds = val_ds.batch(model_cfg['batch_size'])\n"
   ]
  },
  {
   "cell_type": "code",
   "execution_count": 10,
   "metadata": {
    "executionInfo": {
     "elapsed": 1,
     "status": "ok",
     "timestamp": 1676096674477,
     "user": {
      "displayName": "화정이네",
      "userId": "05305307080143119231"
     },
     "user_tz": -540
    },
    "id": "NzYse5_6D0Pd"
   },
   "outputs": [],
   "source": [
    "_alex_cfg = {\n",
    "    'conv2d_1': {\n",
    "        'filters' : 24,\n",
    "        'kernel_size' : [7,7],\n",
    "        'strides' : [4,4],\n",
    "        'padding' : 'same'\n",
    "    },\n",
    "    'conv2d_2': {\n",
    "        'filters' : 62,\n",
    "        'kernel_size' : [5,5],\n",
    "        'strides' : [2,2],\n",
    "        'padding' : 'same'\n",
    "    },\n",
    "    'conv2d_3': {\n",
    "        'filters' : 95,\n",
    "        'kernel_size' : [3,3],\n",
    "        'strides' : [2,2],\n",
    "        'padding' : 'same'\n",
    "    },\n",
    "    'conv2d_4': {\n",
    "        'filters' : 62,\n",
    "        'kernel_size' : [3,3],\n",
    "        'strides' : [2,2],\n",
    "        'padding' : 'same'\n",
    "    },\n",
    "    'maxpool' : {\n",
    "        'pool_size' : [3,3],\n",
    "        'strides' : [2,2]\n",
    "    },\n",
    "    'dense_1' : {'unit' : 40}, \n",
    "    'dense_2' : {'unit' : 10},\n",
    "    'dropout_prob' : 0.5  \n",
    "\n",
    "}\n",
    "\n",
    "class convbatchmaxpool(tf.keras.layers.Layer):\n",
    "    def __init__(\n",
    "        self,\n",
    "        convfilters, convkernel_size, convstrides, convpadding,\n",
    "        pool_size = 1, pool_strides= 1\n",
    "        ):\n",
    "        super().__init__()\n",
    "\n",
    "        self.conv2d = tf.keras.layers.Conv2D(\n",
    "            filters= convfilters,\n",
    "            kernel_size= convkernel_size,\n",
    "            strides= convstrides,\n",
    "            padding= convpadding\n",
    "        )\n",
    "        self.batchnorm = tf.keras.layers.BatchNormalization()\n",
    "\n",
    "        if pool_size != 0 :\n",
    "            self.maxpool2d = tf.keras.layers.MaxPool2D(\n",
    "            pool_size= pool_size,\n",
    "            strides= pool_strides\n",
    "            )\n",
    "        else:\n",
    "            self.maxpool2d = tf.keras.layers.MaxPool2D(\n",
    "            pool_size= pool_size,\n",
    "            strides= pool_strides\n",
    "            )        \n",
    "            \n",
    "\n",
    "    def call(self, input):\n",
    "    \n",
    "        x = self.conv2d(input)\n",
    "        x = self.batchnorm(x)\n",
    "        x = tf.nn.relu(x)\n",
    "        out = self.maxpool2d(x)\n",
    "        return out\n",
    "\n",
    "\n",
    "class AlexNet(tf.keras.Model):\n",
    "    def __init__(self, cfg = _alex_cfg):\n",
    "        super().__init__()\n",
    "\n",
    "        self.conv1_1 = convbatchmaxpool(\n",
    "            convfilters = cfg['conv2d_1']['filters'],\n",
    "            convkernel_size= cfg['conv2d_1']['kernel_size'] ,\n",
    "            convstrides = cfg['conv2d_1']['strides'] , \n",
    "            convpadding =  cfg['conv2d_1']['padding'] ,\n",
    "            pool_size =  cfg['maxpool']['pool_size'] , \n",
    "            pool_strides =  cfg['maxpool']['strides']\n",
    "        )\n",
    "\n",
    "        self.conv1_2 = convbatchmaxpool(\n",
    "            convfilters = cfg['conv2d_1']['filters'],\n",
    "            convkernel_size= cfg['conv2d_1']['kernel_size'] ,\n",
    "            convstrides = cfg['conv2d_1']['strides'] , \n",
    "            convpadding =  cfg['conv2d_1']['padding'] ,\n",
    "            pool_size =  cfg['maxpool']['pool_size'] , \n",
    "            pool_strides =  cfg['maxpool']['strides']\n",
    "        )\n",
    "\n",
    "        self.conv2_1 = convbatchmaxpool(\n",
    "            convfilters = cfg['conv2d_2']['filters'],\n",
    "            convkernel_size= cfg['conv2d_2']['kernel_size'] ,\n",
    "            convstrides = cfg['conv2d_2']['strides'] , \n",
    "            convpadding =  cfg['conv2d_2']['padding'] ,\n",
    "            pool_size =  cfg['maxpool']['pool_size'] , \n",
    "            pool_strides =  cfg['maxpool']['strides']\n",
    "        )\n",
    "\n",
    "        self.conv2_2 = convbatchmaxpool(\n",
    "            convfilters = cfg['conv2d_2']['filters'],\n",
    "            convkernel_size= cfg['conv2d_2']['kernel_size'] ,\n",
    "            convstrides = cfg['conv2d_2']['strides'] , \n",
    "            convpadding =  cfg['conv2d_2']['padding'] ,\n",
    "            pool_size =  cfg['maxpool']['pool_size'] , \n",
    "            pool_strides =  cfg['maxpool']['strides']\n",
    "        )\n",
    "\n",
    "        self.conv3_1 = convbatchmaxpool(\n",
    "            convfilters = cfg['conv2d_3']['filters'],\n",
    "            convkernel_size= cfg['conv2d_3']['kernel_size'] ,\n",
    "            convstrides = cfg['conv2d_3']['strides'] , \n",
    "            convpadding =  cfg['conv2d_3']['padding'] ,\n",
    "            # pool_size =  cfg['maxpool']['pool_size'] , \n",
    "            # pool_strides =  cfg['maxpool']['strides']\n",
    "        )\n",
    "\n",
    "        self.conv3_2 = convbatchmaxpool(\n",
    "            convfilters = cfg['conv2d_3']['filters'],\n",
    "            convkernel_size= cfg['conv2d_3']['kernel_size'] ,\n",
    "            convstrides = cfg['conv2d_3']['strides'] , \n",
    "            convpadding =  cfg['conv2d_3']['padding'] ,\n",
    "            # pool_size =  cfg['maxpool']['pool_size'] , \n",
    "            # pool_strides =  cfg['maxpool']['strides']\n",
    "        )\n",
    "\n",
    "        self.conv4_1 = convbatchmaxpool(\n",
    "            convfilters = cfg['conv2d_3']['filters'],\n",
    "            convkernel_size= cfg['conv2d_3']['kernel_size'] ,\n",
    "            convstrides = cfg['conv2d_3']['strides'] , \n",
    "            convpadding =  cfg['conv2d_3']['padding'] ,\n",
    "            # pool_size =  cfg['maxpool']['pool_size'] , \n",
    "            # pool_strides =  cfg['maxpool']['strides']\n",
    "        )\n",
    "\n",
    "        self.conv4_2 = convbatchmaxpool(\n",
    "            convfilters = cfg['conv2d_3']['filters'],\n",
    "            convkernel_size= cfg['conv2d_3']['kernel_size'] ,\n",
    "            convstrides = cfg['conv2d_3']['strides'] , \n",
    "            convpadding =  cfg['conv2d_3']['padding'] ,\n",
    "            # pool_size =  cfg['maxpool']['pool_size'] , \n",
    "            # pool_strides =  cfg['maxpool']['strides']\n",
    "        )\n",
    "\n",
    "        self.conv5_1 = convbatchmaxpool(\n",
    "            convfilters = cfg['conv2d_4']['filters'],\n",
    "            convkernel_size= cfg['conv2d_4']['kernel_size'] ,\n",
    "            convstrides = cfg['conv2d_4']['strides'] , \n",
    "            convpadding =  cfg['conv2d_4']['padding'] ,\n",
    "            # pool_size =  cfg['maxpool']['pool_size'] , \n",
    "            # pool_strides =  cfg['maxpool']['strides']\n",
    "        )\n",
    "\n",
    "        self.conv5_2 = convbatchmaxpool(\n",
    "            convfilters = cfg['conv2d_4']['filters'],\n",
    "            convkernel_size= cfg['conv2d_4']['kernel_size'] ,\n",
    "            convstrides = cfg['conv2d_4']['strides'] , \n",
    "            convpadding =  cfg['conv2d_4']['padding'] ,\n",
    "            # pool_size =  cfg['maxpool']['pool_size'] , \n",
    "            # pool_strides =  cfg['maxpool']['strides']\n",
    "        )\n",
    "\n",
    "        self.dense1 = tf.keras.layers.Dense(cfg['dense_1']['unit'])\n",
    "        self.dense2 = tf.keras.layers.Dense(cfg['dense_1']['unit'])\n",
    "        self.dropout = tf.keras.layers.Dropout(cfg['dropout_prob'])\n",
    "        self.dense3 = tf.keras.layers.Dense(cfg['dense_2']['unit'])\n",
    "        self.flatten = tf.keras.layers.Flatten()\n",
    "        \n",
    "\n",
    "    def call(self,input,training=False):\n",
    "        # first branch model x\n",
    "#         input = tf.keras.layers.Input(shape=in_shape)\n",
    "#         input = tf.expand_dims(input, -1)\n",
    "        x = self.conv1_1(input)\n",
    "        x = self.conv2_1(x)\n",
    "        x = self.conv3_1(x)\n",
    "        x = self.conv4_1(x)\n",
    "        x = self.conv5_1(x)\n",
    "\n",
    "        #  second branch model y\n",
    "        y = self.conv1_2(input)\n",
    "        y = self.conv2_2(y)\n",
    "        y = self.conv3_2(y)\n",
    "        y = self.conv4_2(y)\n",
    "        y = self.conv5_2(y)\n",
    "           \n",
    "        # combine data\n",
    "        z = tf.keras.layers.concatenate([x,y], axis=-1)\n",
    "        z = self.flatten(z)\n",
    "        \n",
    "        # model\n",
    "        z = self.dense1(z)\n",
    "        z = tf.nn.relu(z)\n",
    "        z = self.dense2(z)\n",
    "        z = tf.nn.relu(z)\n",
    "        z = self.dropout(z)\n",
    "        z = self.dense3(z)\n",
    "        z = tf.nn.sigmoid(z)\n",
    "        return z"
   ]
  },
  {
   "cell_type": "code",
   "execution_count": 11,
   "metadata": {
    "colab": {
     "base_uri": "https://localhost:8080/"
    },
    "executionInfo": {
     "elapsed": 8,
     "status": "ok",
     "timestamp": 1676096676943,
     "user": {
      "displayName": "화정이네",
      "userId": "05305307080143119231"
     },
     "user_tz": -540
    },
    "id": "ATz-vdPuaI6o",
    "outputId": "528598d0-3717-4e36-d0e0-0413c29752b7"
   },
   "outputs": [
    {
     "name": "stdout",
     "output_type": "stream",
     "text": [
      "INFO:tensorflow:Reduce to /job:localhost/replica:0/task:0/device:CPU:0 then broadcast to ('/job:localhost/replica:0/task:0/device:CPU:0',).\n",
      "INFO:tensorflow:Reduce to /job:localhost/replica:0/task:0/device:CPU:0 then broadcast to ('/job:localhost/replica:0/task:0/device:CPU:0',).\n",
      "INFO:tensorflow:Reduce to /job:localhost/replica:0/task:0/device:CPU:0 then broadcast to ('/job:localhost/replica:0/task:0/device:CPU:0',).\n",
      "INFO:tensorflow:Reduce to /job:localhost/replica:0/task:0/device:CPU:0 then broadcast to ('/job:localhost/replica:0/task:0/device:CPU:0',).\n",
      "INFO:tensorflow:Reduce to /job:localhost/replica:0/task:0/device:CPU:0 then broadcast to ('/job:localhost/replica:0/task:0/device:CPU:0',).\n",
      "INFO:tensorflow:Reduce to /job:localhost/replica:0/task:0/device:CPU:0 then broadcast to ('/job:localhost/replica:0/task:0/device:CPU:0',).\n",
      "INFO:tensorflow:Reduce to /job:localhost/replica:0/task:0/device:CPU:0 then broadcast to ('/job:localhost/replica:0/task:0/device:CPU:0',).\n",
      "INFO:tensorflow:Reduce to /job:localhost/replica:0/task:0/device:CPU:0 then broadcast to ('/job:localhost/replica:0/task:0/device:CPU:0',).\n",
      "INFO:tensorflow:Reduce to /job:localhost/replica:0/task:0/device:CPU:0 then broadcast to ('/job:localhost/replica:0/task:0/device:CPU:0',).\n",
      "INFO:tensorflow:Reduce to /job:localhost/replica:0/task:0/device:CPU:0 then broadcast to ('/job:localhost/replica:0/task:0/device:CPU:0',).\n",
      "Model: \"alex_net\"\n",
      "_________________________________________________________________\n",
      " Layer (type)                Output Shape              Param #   \n",
      "=================================================================\n",
      " convbatchmaxpool (convbatch  multiple                 3648      \n",
      " maxpool)                                                        \n",
      "                                                                 \n",
      " convbatchmaxpool_1 (convbat  multiple                 3648      \n",
      " chmaxpool)                                                      \n",
      "                                                                 \n",
      " convbatchmaxpool_2 (convbat  multiple                 37510     \n",
      " chmaxpool)                                                      \n",
      "                                                                 \n",
      " convbatchmaxpool_3 (convbat  multiple                 37510     \n",
      " chmaxpool)                                                      \n",
      "                                                                 \n",
      " convbatchmaxpool_4 (convbat  multiple                 53485     \n",
      " chmaxpool)                                                      \n",
      "                                                                 \n",
      " convbatchmaxpool_5 (convbat  multiple                 53485     \n",
      " chmaxpool)                                                      \n",
      "                                                                 \n",
      " convbatchmaxpool_6 (convbat  multiple                 81700     \n",
      " chmaxpool)                                                      \n",
      "                                                                 \n",
      " convbatchmaxpool_7 (convbat  multiple                 81700     \n",
      " chmaxpool)                                                      \n",
      "                                                                 \n",
      " convbatchmaxpool_8 (convbat  multiple                 53320     \n",
      " chmaxpool)                                                      \n",
      "                                                                 \n",
      " convbatchmaxpool_9 (convbat  multiple                 53320     \n",
      " chmaxpool)                                                      \n",
      "                                                                 \n",
      " dense (Dense)               multiple                  5000      \n",
      "                                                                 \n",
      " dense_1 (Dense)             multiple                  1640      \n",
      "                                                                 \n",
      " dropout (Dropout)           multiple                  0         \n",
      "                                                                 \n",
      " dense_2 (Dense)             multiple                  410       \n",
      "                                                                 \n",
      " flatten (Flatten)           multiple                  0         \n",
      "                                                                 \n",
      "=================================================================\n",
      "Total params: 466,376\n",
      "Trainable params: 465,024\n",
      "Non-trainable params: 1,352\n",
      "_________________________________________________________________\n"
     ]
    }
   ],
   "source": [
    "with strategy.scope():\n",
    "    alexnet = AlexNet()\n",
    "\n",
    "\n",
    "    loss_func = tf.losses.SparseCategoricalCrossentropy()\n",
    "\n",
    "    lr = model_cfg['lr']\n",
    "    optimizer = tf.optimizers.SGD(learning_rate=lr)\n",
    "\n",
    "    alexnet.compile(\n",
    "        loss = loss_func,\n",
    "        optimizer=optimizer,\n",
    "        metrics = [tf.keras.metrics.Accuracy()]\n",
    "    )\n",
    "    alexnet.build(input_shape=(model_cfg['batch_size'], model_cfg['img_size'], model_cfg['img_size'],3))\n",
    "\n",
    "# alexnet = tf.keras.Model(inputs=input, outputs=z)\n",
    "\n",
    "alexnet.summary()"
   ]
  },
  {
   "cell_type": "code",
   "execution_count": 12,
   "metadata": {},
   "outputs": [
    {
     "data": {
      "text/plain": [
       "<BatchDataset element_spec=(TensorSpec(shape=(None, 224, 224, 3), dtype=tf.float32, name=None), TensorSpec(shape=(None, 10), dtype=tf.int8, name=None))>"
      ]
     },
     "execution_count": 12,
     "metadata": {},
     "output_type": "execute_result"
    }
   ],
   "source": [
    "train_ds"
   ]
  },
  {
   "cell_type": "code",
   "execution_count": null,
   "metadata": {
    "colab": {
     "base_uri": "https://localhost:8080/",
     "height": 1000
    },
    "executionInfo": {
     "elapsed": 768,
     "status": "error",
     "timestamp": 1676096682024,
     "user": {
      "displayName": "화정이네",
      "userId": "05305307080143119231"
     },
     "user_tz": -540
    },
    "id": "XGfLIiJNpFgM",
    "outputId": "9e54bd39-c862-4760-b1c5-32e201c4e6e5"
   },
   "outputs": [
    {
     "name": "stdout",
     "output_type": "stream",
     "text": [
      "Epoch 1/10\n"
     ]
    }
   ],
   "source": [
    "alexnet.fit(\n",
    "    train_ds,\n",
    "    validation_data = val_ds,\n",
    "    epochs = 10\n",
    ")"
   ]
  },
  {
   "cell_type": "code",
   "execution_count": 30,
   "metadata": {
    "id": "67MNB0xpEQwW"
   },
   "outputs": [
    {
     "name": "stdout",
     "output_type": "stream",
     "text": [
      "(128, 224, 224, 3)\n"
     ]
    }
   ],
   "source": [
    "\n",
    "for i in train_ds.take(1):\n",
    "    print(i[0].shape)"
   ]
  },
  {
   "cell_type": "code",
   "execution_count": null,
   "metadata": {
    "id": "JpoCLSjWUobp"
   },
   "outputs": [],
   "source": [
    "alexnet = AlexNet()"
   ]
  },
  {
   "cell_type": "code",
   "execution_count": null,
   "metadata": {
    "colab": {
     "base_uri": "https://localhost:8080/"
    },
    "executionInfo": {
     "elapsed": 2,
     "status": "ok",
     "timestamp": 1675865537631,
     "user": {
      "displayName": "화정이네",
      "userId": "05305307080143119231"
     },
     "user_tz": -540
    },
    "id": "SCY61RWhFLdL",
    "outputId": "6c85995e-52ac-4167-939a-090dbccc1960"
   },
   "outputs": [
    {
     "data": {
      "text/plain": [
       "(28, 28, 3)"
      ]
     },
     "execution_count": 66,
     "metadata": {},
     "output_type": "execute_result"
    }
   ],
   "source": [
    "input_shape = (4, 28, 28, 3)\n",
    "input_shape[1:]\n"
   ]
  },
  {
   "cell_type": "code",
   "execution_count": null,
   "metadata": {
    "id": "Bc3Grzc1VyVt"
   },
   "outputs": [],
   "source": [
    "# \n",
    "alexnet.build(input_shape=(25,224,224,3))"
   ]
  },
  {
   "cell_type": "code",
   "execution_count": 120,
   "metadata": {
    "colab": {
     "base_uri": "https://localhost:8080/",
     "height": 100
    },
    "executionInfo": {
     "elapsed": 266,
     "status": "ok",
     "timestamp": 1676095805235,
     "user": {
      "displayName": "화정이네",
      "userId": "05305307080143119231"
     },
     "user_tz": -540
    },
    "id": "0AMiRlj9JL3I",
    "outputId": "eff4a901-771e-437b-af1e-59172ae4f003"
   },
   "outputs": [
    {
     "data": {
      "image/svg+xml": [
       "<svg xmlns=\"http://www.w3.org/2000/svg\" xmlns:xlink=\"http://www.w3.org/1999/xlink\" width=\"121pt\" height=\"60pt\" viewBox=\"0.00 0.00 91.00 45.00\">\n",
       "<g id=\"graph0\" class=\"graph\" transform=\"scale(0.75 0.75) rotate(0) translate(4 41)\">\n",
       "<title>G</title>\n",
       "<polygon fill=\"white\" stroke=\"transparent\" points=\"-4,4 -4,-41 87,-41 87,4 -4,4\"/>\n",
       "<!-- 139677019319360 -->\n",
       "<g id=\"node1\" class=\"node\">\n",
       "<title>139677019319360</title>\n",
       "<polygon fill=\"none\" stroke=\"black\" points=\"0,-0.5 0,-36.5 83,-36.5 83,-0.5 0,-0.5\"/>\n",
       "<text text-anchor=\"middle\" x=\"41.5\" y=\"-14.8\" font-family=\"Times,serif\" font-size=\"14.00\">alex_net_33</text>\n",
       "</g>\n",
       "</g>\n",
       "</svg>"
      ],
      "text/plain": [
       "<IPython.core.display.SVG object>"
      ]
     },
     "execution_count": 120,
     "metadata": {},
     "output_type": "execute_result"
    }
   ],
   "source": [
    "tf.keras.utils.plot_model(alexnet, show_shapes=True, show_dtype=True)\n",
    "from IPython.display import SVG\n",
    "from keras.utils.vis_utils import model_to_dot\n",
    "\n",
    "%matplotlib inline\n",
    "\n",
    "SVG(model_to_dot(alexnet, show_shapes=True).create(prog='dot', format='svg'))"
   ]
  },
  {
   "cell_type": "code",
   "execution_count": 121,
   "metadata": {
    "colab": {
     "base_uri": "https://localhost:8080/"
    },
    "executionInfo": {
     "elapsed": 280,
     "status": "ok",
     "timestamp": 1676095811657,
     "user": {
      "displayName": "화정이네",
      "userId": "05305307080143119231"
     },
     "user_tz": -540
    },
    "id": "92MbMGTzUwY_",
    "outputId": "288f0980-30b6-4348-f121-2025729161da"
   },
   "outputs": [
    {
     "name": "stdout",
     "output_type": "stream",
     "text": [
      "Model: \"alex_net_33\"\n",
      "_________________________________________________________________\n",
      " Layer (type)                Output Shape              Param #   \n",
      "=================================================================\n",
      " convbatchmaxpool_260 (convb  (None, 27, 27, 48)       17664     \n",
      " atchmaxpool)                                                    \n",
      "                                                                 \n",
      " convbatchmaxpool_261 (convb  (None, 27, 27, 48)       17664     \n",
      " atchmaxpool)                                                    \n",
      "                                                                 \n",
      " convbatchmaxpool_262 (convb  (None, 3, 3, 128)        154240    \n",
      " atchmaxpool)                                                    \n",
      "                                                                 \n",
      " convbatchmaxpool_263 (convb  (None, 3, 3, 128)        154240    \n",
      " atchmaxpool)                                                    \n",
      "                                                                 \n",
      " convbatchmaxpool_264 (convb  (None, 1, 1, 192)        222144    \n",
      " atchmaxpool)                                                    \n",
      "                                                                 \n",
      " convbatchmaxpool_265 (convb  (None, 1, 1, 192)        222144    \n",
      " atchmaxpool)                                                    \n",
      "                                                                 \n",
      " convbatchmaxpool_266 (convb  (None, 1, 1, 192)        332736    \n",
      " atchmaxpool)                                                    \n",
      "                                                                 \n",
      " convbatchmaxpool_267 (convb  (None, 1, 1, 192)        332736    \n",
      " atchmaxpool)                                                    \n",
      "                                                                 \n",
      " convbatchmaxpool_268 (convb  (None, 1, 1, 128)        221824    \n",
      " atchmaxpool)                                                    \n",
      "                                                                 \n",
      " convbatchmaxpool_269 (convb  (None, 1, 1, 128)        221824    \n",
      " atchmaxpool)                                                    \n",
      "                                                                 \n",
      " dense_72 (Dense)            (None, 4096)              1052672   \n",
      "                                                                 \n",
      " dense_73 (Dense)            (None, 4096)              16781312  \n",
      "                                                                 \n",
      " dropout_24 (Dropout)        (None, 4096)              0         \n",
      "                                                                 \n",
      " dense_74 (Dense)            (None, 1000)              4097000   \n",
      "                                                                 \n",
      " flatten_22 (Flatten)        (None, 256)               0         \n",
      "                                                                 \n",
      "=================================================================\n",
      "Total params: 23,828,200\n",
      "Trainable params: 23,825,448\n",
      "Non-trainable params: 2,752\n",
      "_________________________________________________________________\n"
     ]
    }
   ],
   "source": [
    "\n",
    "alexnet.summary()"
   ]
  },
  {
   "cell_type": "code",
   "execution_count": null,
   "metadata": {
    "id": "mSwFB1-MVXEm"
   },
   "outputs": [],
   "source": []
  }
 ],
 "metadata": {
  "accelerator": "GPU",
  "colab": {
   "machine_shape": "hm",
   "provenance": []
  },
  "gpuClass": "premium",
  "kernelspec": {
   "display_name": "Python 3 (ipykernel)",
   "language": "python",
   "name": "python3"
  },
  "language_info": {
   "codemirror_mode": {
    "name": "ipython",
    "version": 3
   },
   "file_extension": ".py",
   "mimetype": "text/x-python",
   "name": "python",
   "nbconvert_exporter": "python",
   "pygments_lexer": "ipython3",
   "version": "3.9.12"
  }
 },
 "nbformat": 4,
 "nbformat_minor": 1
}
